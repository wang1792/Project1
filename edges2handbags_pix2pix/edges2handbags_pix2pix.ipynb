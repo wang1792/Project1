{
 "cells": [
  {
   "cell_type": "markdown",
   "metadata": {
    "pycharm": {
     "name": "#%% md\n"
    }
   },
   "source": [
    "# Implementation of Pix2Pix\n",
    "\n",
    "* Source: https://github.com/junyanz/pytorch-CycleGAN-and-pix2pix\n",
    "* Reference: https://arxiv.org/pdf/1611.07004.pdf\n",
    "* Environment: `torch`>=1.4.0, `torchvision`>=0.5.0, `dominate`>=2.4.0, `visdom`>=0.1.8.8, `wandb`"
   ]
  },
  {
   "cell_type": "markdown",
   "metadata": {
    "colab_type": "text",
    "id": "8daqlgVhw29P",
    "pycharm": {
     "name": "#%% md\n"
    }
   },
   "source": [
    "## Datasets\n",
    "* We utilize the dataset `edges2handbags.tar.gz` provided by our course for this analysis."
   ]
  },
  {
   "cell_type": "markdown",
   "metadata": {
    "colab_type": "text",
    "id": "yFw1kDQBx3LN",
    "pycharm": {
     "name": "#%% md\n"
    }
   },
   "source": [
    "## Training\n",
    "* Set the relevant parameters and initiate training using the existing `train.py`.\n",
    "  - [dataroot]: own dataset's path\n",
    "  - [name]: name the trained model\n",
    "  - [model]: this script works for `pix2pix`\n",
    "  - [direction]: want to train a model to transfrom from class B to A"
   ]
  },
  {
   "cell_type": "code",
   "execution_count": null,
   "metadata": {
    "colab": {},
    "colab_type": "code",
    "id": "0sp7TCT2x9dB",
    "pycharm": {
     "name": "#%%\n",
     "is_executing": true
    }
   },
   "outputs": [],
   "source": [
    "# Example\n",
    "!python train.py --dataroot ./edges2handbags_subset_128 --name facades_pix2pix_128 --model pix2pix --direction AtoB "
   ]
  },
  {
   "cell_type": "markdown",
   "metadata": {
    "colab_type": "text",
    "id": "9UkcaFZiyASl",
    "pycharm": {
     "name": "#%% md\n"
    }
   },
   "source": [
    "## Testing\n",
    "* Set the relevant parameters and initiate testing using the existing `test.py`.\n",
    "  - [dataroot]: own dataset's path\n",
    "  - [name]: name the trained model\n",
    "  - [model]: this script works for `pix2pix`\n",
    "  - [direction]: want to train a model to transfrom from class B to A"
   ]
  },
  {
   "cell_type": "code",
   "execution_count": null,
   "metadata": {
    "pycharm": {
     "name": "#%%\n"
    }
   },
   "outputs": [],
   "source": [
    "# Example\n",
    "# !python test.py --dataroot ./datasets/facades --direction BtoA --model pix2pix --name facades_pix2pix"
   ]
  },
  {
   "cell_type": "markdown",
   "metadata": {
    "colab_type": "text",
    "id": "OzSKIPUByfiN",
    "pycharm": {
     "name": "#%% md\n"
    }
   },
   "source": [
    "## Visualize\n",
    "* Display the results we intend to showcase\n",
    "  - Concisely yet comprehensively showcase our work, ensuring our efforts are well represented.\n",
    "  - The presentation should encompass more than just test set results and loss variations.\n",
    "  - Additionally, provide suitable titles for the images."
   ]
  },
  {
   "cell_type": "code",
   "execution_count": null,
   "metadata": {
    "pycharm": {
     "name": "#%%\n"
    }
   },
   "outputs": [],
   "source": [
    "# Display"
   ]
  }
 ],
 "metadata": {
  "accelerator": "GPU",
  "colab": {
   "collapsed_sections": [],
   "include_colab_link": true,
   "name": "pix2pix",
   "provenance": []
  },
  "environment": {
   "name": "tf2-gpu.2-3.m74",
   "type": "gcloud",
   "uri": "gcr.io/deeplearning-platform-release/tf2-gpu.2-3:m74"
  },
  "kernelspec": {
   "display_name": "Python 3",
   "language": "python",
   "name": "python3"
  },
  "language_info": {
   "codemirror_mode": {
    "name": "ipython",
    "version": 3
   },
   "file_extension": ".py",
   "mimetype": "text/x-python",
   "name": "python",
   "nbconvert_exporter": "python",
   "pygments_lexer": "ipython3",
   "version": "3.10.10"
  }
 },
 "nbformat": 4,
 "nbformat_minor": 4
}