{
  "cells": [
    {
      "cell_type": "markdown",
      "metadata": {
        "id": "view-in-github",
        "colab_type": "text"
      },
      "source": [
        "<a href=\"https://colab.research.google.com/github/wang1792/Project1/blob/main/Deep_Double_Descent.ipynb\" target=\"_parent\"><img src=\"https://colab.research.google.com/assets/colab-badge.svg\" alt=\"Open In Colab\"/></a>"
      ]
    },
    {
      "cell_type": "code",
      "execution_count": null,
      "metadata": {
        "id": "NNpa44nK3O4R"
      },
      "outputs": [],
      "source": [
        "#import libraries\n",
        "import tensorflow as tf\n",
        "import tensorflow.keras as K\n",
        "from tensorflow.keras import losses, optimizers, metrics\n",
        "import numpy as np\n",
        "import random\n",
        "import matplotlib.pyplot as plt\n",
        "%matplotlib inline\n",
        "from mlxtend.data import loadlocal_mnist\n",
        "from tqdm import tqdm_notebook"
      ]
    },
    {
      "cell_type": "code",
      "execution_count": null,
      "metadata": {
        "colab": {
          "base_uri": "https://localhost:8080/"
        },
        "id": "ZhFCV1cX3O4n",
        "outputId": "d28fcdb1-2cbd-437c-b68c-3d70adf20a3d"
      },
      "outputs": [
        {
          "output_type": "stream",
          "name": "stdout",
          "text": [
            "  % Total    % Received % Xferd  Average Speed   Time    Time     Time  Current\n",
            "                                 Dload  Upload   Total   Spent    Left  Speed\n",
            "100 28881  100 28881    0     0  1019k      0 --:--:-- --:--:-- --:--:-- 1044k\n",
            "  % Total    % Received % Xferd  Average Speed   Time    Time     Time  Current\n",
            "                                 Dload  Upload   Total   Spent    Left  Speed\n",
            "100 9680k  100 9680k    0     0   206M      0 --:--:-- --:--:-- --:--:--  210M\n",
            "  % Total    % Received % Xferd  Average Speed   Time    Time     Time  Current\n",
            "                                 Dload  Upload   Total   Spent    Left  Speed\n",
            "100  4542  100  4542    0     0   200k      0 --:--:-- --:--:-- --:--:--  201k\n",
            "  % Total    % Received % Xferd  Average Speed   Time    Time     Time  Current\n",
            "                                 Dload  Upload   Total   Spent    Left  Speed\n",
            "100 1610k  100 1610k    0     0  50.1M      0 --:--:-- --:--:-- --:--:-- 50.7M\n"
          ]
        }
      ],
      "source": [
        "#download MNIST dataset\n",
        "!curl -O http://yann.lecun.com/exdb/mnist/train-labels-idx1-ubyte.gz\n",
        "!curl -O http://yann.lecun.com/exdb/mnist/train-images-idx3-ubyte.gz\n",
        "!curl -O http://yann.lecun.com/exdb/mnist/t10k-labels-idx1-ubyte.gz\n",
        "!curl -O http://yann.lecun.com/exdb/mnist/t10k-images-idx3-ubyte.gz"
      ]
    },
    {
      "cell_type": "code",
      "execution_count": null,
      "metadata": {
        "id": "tiVsdcgc3O42"
      },
      "outputs": [],
      "source": [
        "#unzip files\n",
        "!gunzip t*-ubyte.gz"
      ]
    },
    {
      "cell_type": "code",
      "source": [
        "def add_noise(images, noise_ratio,num_cols):\n",
        "  # num_rows,num_cols\n",
        "    noisy_images = []\n",
        "    num_noise_images = int(noise_ratio * len(images))  # 确定有噪声图像的数量\n",
        "\n",
        "    for i, image in enumerate(images):\n",
        "        noisy_image = image.copy()\n",
        "        image_height, image_width, _ = image.shape\n",
        "\n",
        "        # if i < num_noise_images:\n",
        "        #     start_row = (image_height - num_rows) // 2\n",
        "        #     end_row = start_row + num_rows\n",
        "        #     noisy_image[start_row:end_row, :, :] = 0  # 将选中的 num_rows 行从图片中间开始设置为黑色\n",
        "        if i < num_noise_images:\n",
        "            start_col = (image_width - num_cols) // 2\n",
        "            end_col = start_col + num_cols\n",
        "            noisy_image[:, start_col:end_col, :] = 0  # 将选中的 num_cols 列从图片中间开始设置为黑色\n",
        "\n",
        "        noisy_images.append(noisy_image)\n",
        "\n",
        "    return np.array(noisy_images)"
      ],
      "metadata": {
        "id": "Q78AtfzDLTrl"
      },
      "execution_count": null,
      "outputs": []
    },
    {
      "cell_type": "code",
      "source": [
        "# Load MNIST dataset\n",
        "X_train, y_train = loadlocal_mnist(\n",
        "    images_path='train-images-idx3-ubyte',\n",
        "    labels_path='train-labels-idx1-ubyte')\n",
        "X_test, y_test = loadlocal_mnist(\n",
        "    images_path='t10k-images-idx3-ubyte',\n",
        "    labels_path='t10k-labels-idx1-ubyte')\n",
        "\n",
        "# Reshape to image shape\n",
        "X_train = X_train.reshape(60000, 28, 28, 1)\n",
        "X_test = X_test.reshape(10000, 28, 28, 1)\n",
        "\n",
        "# Normalize pixel values\n",
        "X_train = X_train / 255.0\n",
        "X_test = X_test / 255.0\n",
        "\n",
        "# Sampled training dataset\n",
        "X_train_6k = X_train[:6000]\n",
        "y_train_6k = y_train[:6000]\n",
        "\n",
        "# Augmented training dataset\n",
        "X_train_12k = X_train[:12000]\n",
        "y_train_12k = y_train[:12000]\n",
        "\n",
        "# Sampled test dataset\n",
        "X_test = X_test[:1000]\n",
        "y_test = y_test[:1000]\n",
        "\n",
        "# Define noise ratio\n",
        "noise_ratio = 0.25  # 25% noise\n",
        "\n",
        "# Add noise to training datasets\n",
        "X_train_noise_6k = add_noise(X_train_6k, noise_ratio,3)\n",
        "X_train_noise_12k = add_noise(X_train_12k, noise_ratio,3)\n",
        "\n",
        "# Transform target output to one-hot-encoded representation\n",
        "y_train_6k = tf.keras.utils.to_categorical(y_train_6k)\n",
        "y_train_12k = tf.keras.utils.to_categorical(y_train_12k)\n",
        "y_test = tf.keras.utils.to_categorical(y_test)"
      ],
      "metadata": {
        "id": "JNswhhe2LU4J"
      },
      "execution_count": null,
      "outputs": []
    },
    {
      "cell_type": "code",
      "execution_count": null,
      "metadata": {
        "colab": {
          "base_uri": "https://localhost:8080/",
          "height": 353
        },
        "id": "cxIDERcX3O5d",
        "outputId": "9a28d059-9b4c-4857-8493-b10e9a9c66f0"
      },
      "outputs": [
        {
          "output_type": "display_data",
          "data": {
            "text/plain": [
              "<Figure size 640x480 with 2 Axes>"
            ],
            "image/png": "[encoded data removed]"
          },
          "metadata": {}
        }
      ],
      "source": [
        "# Choose an example image index\n",
        "image_index = 0\n",
        "\n",
        "# Get the original image and the noisy image\n",
        "original_image = X_train[image_index]\n",
        "noisy_image = X_train_noise_6k[image_index]\n",
        "\n",
        "# Display the original image\n",
        "plt.subplot(1, 2, 1)\n",
        "plt.imshow(original_image.squeeze())\n",
        "plt.title('Original Image')\n",
        "\n",
        "# Display the noisy image\n",
        "plt.subplot(1, 2, 2)\n",
        "plt.imshow(noisy_image.squeeze())\n",
        "plt.title('Noisy Image')\n",
        "\n",
        "# Show the plots\n",
        "plt.tight_layout()\n",
        "plt.show()"
      ]
    },
    {
      "cell_type": "code",
      "execution_count": null,
      "metadata": {
        "colab": {
          "base_uri": "https://localhost:8080/"
        },
        "id": "BZj9lthen3Dh",
        "outputId": "c82853ab-61d3-473c-cd6f-7cb1de24b0cd"
      },
      "outputs": [
        {
          "output_type": "execute_result",
          "data": {
            "text/plain": [
              "array([0., 0., 0., 0., 0., 1., 0., 0., 0., 0.], dtype=float32)"
            ]
          },
          "metadata": {},
          "execution_count": 43
        }
      ],
      "source": [
        "y_train_6k[0]"
      ]
    },
    {
      "cell_type": "code",
      "execution_count": null,
      "metadata": {
        "id": "vLKBxrYo3O5r"
      },
      "outputs": [],
      "source": [
        "#blocks definition\n",
        "#input_size = 32 #ONLY FOR CIFAR DATASET\n",
        "\n",
        "input_size = 28\n",
        "def cnn_block(x_inp, filters, kernel_size=(3, 3),padding=\"same\", strides=1,pooling=2):\n",
        "    '''function that returns a cnn block composed of Conv-BatchNorm-ReLU-MaxPool layers'''\n",
        "    x = K.layers.Conv2D(filters, kernel_size, padding=padding, strides=strides)(x_inp)\n",
        "    x = K.layers.BatchNormalization()(x)\n",
        "    x = K.layers.Activation('relu')(x)\n",
        "    x = K.layers.MaxPool2D(pool_size=(pooling,pooling))(x)\n",
        "    return x\n",
        "\n",
        "\n",
        "def resnet_block(x_inp, filters, kernel_size=(3, 3),padding=\"same\", strides=1,r=True):\n",
        "    '''function that returns a cnn block composed of two BatchNorm-ReLU-Convolution layers'''\n",
        "    x = K.layers.BatchNormalization()(x_inp)\n",
        "    x = K.layers.Activation('relu')(x)\n",
        "    x = K.layers.Conv2D(filters, kernel_size, padding=padding, strides=strides)(x)\n",
        "    x = K.layers.BatchNormalization()(x)\n",
        "    x = K.layers.Activation('relu')(x)\n",
        "    x = K.layers.Conv2D(filters, kernel_size, padding=padding, strides=strides)(x)\n",
        "    if r:\n",
        "        #interference Conv. layer in order to match the output dimensions\n",
        "        x_inp = K.layers.Conv2D(filters,(1,1), padding=padding, strides=strides)(x_inp)\n",
        "        x_inp = K.layers.Conv2D(filters,(1,1), padding=padding, strides=strides)(x_inp)\n",
        "    x = K.layers.Add()([x,x_inp])\n",
        "    return x\n",
        "\n",
        "\n",
        "def resnet(k=64):\n",
        "    '''ResNet network creation'''\n",
        "    images = K.layers.Input((input_size,input_size, 1))\n",
        "    x = resnet_block(images,k,strides=1)\n",
        "    n_blocks = 4\n",
        "    for i in range(1, n_blocks):\n",
        "            x = resnet_block(x, k* (2**i),strides=2)\n",
        "    x = K.layers.Flatten()(x)\n",
        "    x = K.layers.Dense(10, activation='softmax')(x)\n",
        "    net = K.models.Model(inputs=[images], outputs=[x])\n",
        "\n",
        "    return(net)\n",
        "\n",
        "\n",
        "def cnn(k=64):\n",
        "    '''CNN network creation'''\n",
        "    images = K.layers.Input((input_size,input_size, 1))\n",
        "    x = cnn_block(images,k,pooling=1)\n",
        "    n_blocks = 4\n",
        "    for i in range(1, n_blocks):\n",
        "        if i == 3:\n",
        "            x = cnn_block(x, k* (2**i),pooling=4)\n",
        "            #x = cnn_block(x, k * (2**i),pooling=8) only for CIFAR DATASET\n",
        "        else:\n",
        "            x = cnn_block(x, k * (2**i))\n",
        "    x = K.layers.Flatten()(x)\n",
        "    x = K.layers.Dense(10, activation='softmax')(x)\n",
        "    net = K.models.Model(inputs=[images], outputs=[x])\n",
        "\n",
        "    return(net)"
      ]
    },
    {
      "cell_type": "code",
      "execution_count": null,
      "metadata": {
        "id": "25clA-Sx3O57",
        "outputId": "8023c830-dece-4df6-c5f7-bf2907f5e683"
      },
      "outputs": [
        {
          "name": "stdout",
          "output_type": "stream",
          "text": [
            "Model: \"model\"\n",
            "_________________________________________________________________\n",
            "Layer (type)                 Output Shape              Param #   \n",
            "=================================================================\n",
            "input_1 (InputLayer)         [(None, 28, 28, 1)]       0         \n",
            "_________________________________________________________________\n",
            "conv2d (Conv2D)              (None, 28, 28, 64)        640       \n",
            "_________________________________________________________________\n",
            "batch_normalization (BatchNo (None, 28, 28, 64)        256       \n",
            "_________________________________________________________________\n",
            "activation (Activation)      (None, 28, 28, 64)        0         \n",
            "_________________________________________________________________\n",
            "max_pooling2d (MaxPooling2D) (None, 28, 28, 64)        0         \n",
            "_________________________________________________________________\n",
            "conv2d_1 (Conv2D)            (None, 28, 28, 128)       73856     \n",
            "_________________________________________________________________\n",
            "batch_normalization_1 (Batch (None, 28, 28, 128)       512       \n",
            "_________________________________________________________________\n",
            "activation_1 (Activation)    (None, 28, 28, 128)       0         \n",
            "_________________________________________________________________\n",
            "max_pooling2d_1 (MaxPooling2 (None, 14, 14, 128)       0         \n",
            "_________________________________________________________________\n",
            "conv2d_2 (Conv2D)            (None, 14, 14, 256)       295168    \n",
            "_________________________________________________________________\n",
            "batch_normalization_2 (Batch (None, 14, 14, 256)       1024      \n",
            "_________________________________________________________________\n",
            "activation_2 (Activation)    (None, 14, 14, 256)       0         \n",
            "_________________________________________________________________\n",
            "max_pooling2d_2 (MaxPooling2 (None, 7, 7, 256)         0         \n",
            "_________________________________________________________________\n",
            "conv2d_3 (Conv2D)            (None, 7, 7, 512)         1180160   \n",
            "_________________________________________________________________\n",
            "batch_normalization_3 (Batch (None, 7, 7, 512)         2048      \n",
            "_________________________________________________________________\n",
            "activation_3 (Activation)    (None, 7, 7, 512)         0         \n",
            "_________________________________________________________________\n",
            "max_pooling2d_3 (MaxPooling2 (None, 1, 1, 512)         0         \n",
            "_________________________________________________________________\n",
            "flatten (Flatten)            (None, 512)               0         \n",
            "_________________________________________________________________\n",
            "dense (Dense)                (None, 10)                5130      \n",
            "=================================================================\n",
            "Total params: 1,558,794\n",
            "Trainable params: 1,556,874\n",
            "Non-trainable params: 1,920\n",
            "_________________________________________________________________\n"
          ]
        }
      ],
      "source": [
        "net = cnn()\n",
        "net.summary()"
      ]
    },
    {
      "cell_type": "code",
      "execution_count": null,
      "metadata": {
        "id": "kV7gAlGqkEk9"
      },
      "outputs": [],
      "source": [
        "# from tensorflow.keras.utils import plot_model\n",
        "# plot_model(net, to_file='model.png')"
      ]
    },
    {
      "cell_type": "code",
      "execution_count": null,
      "metadata": {
        "id": "zJTVPJGRkElE",
        "outputId": "356fda56-1d1c-4e4b-c1ba-7fa48c295fbc"
      },
      "outputs": [
        {
          "name": "stdout",
          "output_type": "stream",
          "text": [
            "Model: \"model_1\"\n",
            "__________________________________________________________________________________________________\n",
            "Layer (type)                    Output Shape         Param #     Connected to                     \n",
            "==================================================================================================\n",
            "input_2 (InputLayer)            [(None, 28, 28, 1)]  0                                            \n",
            "__________________________________________________________________________________________________\n",
            "batch_normalization_4 (BatchNor (None, 28, 28, 1)    4           input_2[0][0]                    \n",
            "__________________________________________________________________________________________________\n",
            "activation_4 (Activation)       (None, 28, 28, 1)    0           batch_normalization_4[0][0]      \n",
            "__________________________________________________________________________________________________\n",
            "conv2d_4 (Conv2D)               (None, 28, 28, 64)   640         activation_4[0][0]               \n",
            "__________________________________________________________________________________________________\n",
            "batch_normalization_5 (BatchNor (None, 28, 28, 64)   256         conv2d_4[0][0]                   \n",
            "__________________________________________________________________________________________________\n",
            "activation_5 (Activation)       (None, 28, 28, 64)   0           batch_normalization_5[0][0]      \n",
            "__________________________________________________________________________________________________\n",
            "conv2d_6 (Conv2D)               (None, 28, 28, 64)   128         input_2[0][0]                    \n",
            "__________________________________________________________________________________________________\n",
            "conv2d_5 (Conv2D)               (None, 28, 28, 64)   36928       activation_5[0][0]               \n",
            "__________________________________________________________________________________________________\n",
            "conv2d_7 (Conv2D)               (None, 28, 28, 64)   4160        conv2d_6[0][0]                   \n",
            "__________________________________________________________________________________________________\n",
            "add (Add)                       (None, 28, 28, 64)   0           conv2d_5[0][0]                   \n",
            "                                                                 conv2d_7[0][0]                   \n",
            "__________________________________________________________________________________________________\n",
            "batch_normalization_6 (BatchNor (None, 28, 28, 64)   256         add[0][0]                        \n",
            "__________________________________________________________________________________________________\n",
            "activation_6 (Activation)       (None, 28, 28, 64)   0           batch_normalization_6[0][0]      \n",
            "__________________________________________________________________________________________________\n",
            "conv2d_8 (Conv2D)               (None, 14, 14, 128)  73856       activation_6[0][0]               \n",
            "__________________________________________________________________________________________________\n",
            "batch_normalization_7 (BatchNor (None, 14, 14, 128)  512         conv2d_8[0][0]                   \n",
            "__________________________________________________________________________________________________\n",
            "activation_7 (Activation)       (None, 14, 14, 128)  0           batch_normalization_7[0][0]      \n",
            "__________________________________________________________________________________________________\n",
            "conv2d_10 (Conv2D)              (None, 14, 14, 128)  8320        add[0][0]                        \n",
            "__________________________________________________________________________________________________\n",
            "conv2d_9 (Conv2D)               (None, 7, 7, 128)    147584      activation_7[0][0]               \n",
            "__________________________________________________________________________________________________\n",
            "conv2d_11 (Conv2D)              (None, 7, 7, 128)    16512       conv2d_10[0][0]                  \n",
            "__________________________________________________________________________________________________\n",
            "add_1 (Add)                     (None, 7, 7, 128)    0           conv2d_9[0][0]                   \n",
            "                                                                 conv2d_11[0][0]                  \n",
            "__________________________________________________________________________________________________\n",
            "batch_normalization_8 (BatchNor (None, 7, 7, 128)    512         add_1[0][0]                      \n",
            "__________________________________________________________________________________________________\n",
            "activation_8 (Activation)       (None, 7, 7, 128)    0           batch_normalization_8[0][0]      \n",
            "__________________________________________________________________________________________________\n",
            "conv2d_12 (Conv2D)              (None, 4, 4, 256)    295168      activation_8[0][0]               \n",
            "__________________________________________________________________________________________________\n",
            "batch_normalization_9 (BatchNor (None, 4, 4, 256)    1024        conv2d_12[0][0]                  \n",
            "__________________________________________________________________________________________________\n",
            "activation_9 (Activation)       (None, 4, 4, 256)    0           batch_normalization_9[0][0]      \n",
            "__________________________________________________________________________________________________\n",
            "conv2d_14 (Conv2D)              (None, 4, 4, 256)    33024       add_1[0][0]                      \n",
            "__________________________________________________________________________________________________\n",
            "conv2d_13 (Conv2D)              (None, 2, 2, 256)    590080      activation_9[0][0]               \n",
            "__________________________________________________________________________________________________\n",
            "conv2d_15 (Conv2D)              (None, 2, 2, 256)    65792       conv2d_14[0][0]                  \n",
            "__________________________________________________________________________________________________\n",
            "add_2 (Add)                     (None, 2, 2, 256)    0           conv2d_13[0][0]                  \n",
            "                                                                 conv2d_15[0][0]                  \n",
            "__________________________________________________________________________________________________\n",
            "batch_normalization_10 (BatchNo (None, 2, 2, 256)    1024        add_2[0][0]                      \n",
            "__________________________________________________________________________________________________\n",
            "activation_10 (Activation)      (None, 2, 2, 256)    0           batch_normalization_10[0][0]     \n",
            "__________________________________________________________________________________________________\n",
            "conv2d_16 (Conv2D)              (None, 1, 1, 512)    1180160     activation_10[0][0]              \n",
            "__________________________________________________________________________________________________\n",
            "batch_normalization_11 (BatchNo (None, 1, 1, 512)    2048        conv2d_16[0][0]                  \n",
            "__________________________________________________________________________________________________\n",
            "activation_11 (Activation)      (None, 1, 1, 512)    0           batch_normalization_11[0][0]     \n",
            "__________________________________________________________________________________________________\n",
            "conv2d_18 (Conv2D)              (None, 1, 1, 512)    131584      add_2[0][0]                      \n",
            "__________________________________________________________________________________________________\n",
            "conv2d_17 (Conv2D)              (None, 1, 1, 512)    2359808     activation_11[0][0]              \n",
            "__________________________________________________________________________________________________\n",
            "conv2d_19 (Conv2D)              (None, 1, 1, 512)    262656      conv2d_18[0][0]                  \n",
            "__________________________________________________________________________________________________\n",
            "add_3 (Add)                     (None, 1, 1, 512)    0           conv2d_17[0][0]                  \n",
            "                                                                 conv2d_19[0][0]                  \n",
            "__________________________________________________________________________________________________\n",
            "flatten_1 (Flatten)             (None, 512)          0           add_3[0][0]                      \n",
            "__________________________________________________________________________________________________\n",
            "dense_1 (Dense)                 (None, 10)           5130        flatten_1[0][0]                  \n",
            "==================================================================================================\n",
            "Total params: 5,217,166\n",
            "Trainable params: 5,214,348\n",
            "Non-trainable params: 2,818\n",
            "__________________________________________________________________________________________________\n"
          ]
        }
      ],
      "source": [
        "net = resnet()\n",
        "net.summary()"
      ]
    },
    {
      "cell_type": "code",
      "execution_count": null,
      "metadata": {
        "id": "RUJhZ5P83O6E"
      },
      "outputs": [],
      "source": [
        "# from tensorflow.keras.utils import plot_model\n",
        "# plot_model(net, to_file='model.png')"
      ]
    },
    {
      "cell_type": "markdown",
      "metadata": {
        "id": "W-KFOCCObXxq"
      },
      "source": [
        "## MODEL-WISE DOUBLE DESCENT"
      ]
    },
    {
      "cell_type": "code",
      "execution_count": null,
      "metadata": {
        "colab": {
          "base_uri": "https://localhost:8080/",
          "height": 1000,
          "referenced_widgets": [
            "167d194e28b048108ac18e9aeb78958a",
            "896e0d4aaab54c79977f521271215ea5",
            "e1b2431baf5842ff8e08fce48941347b",
            "3865f3703ee047db94cb9d54d5ef1a8b",
            "994d6bc305c8439dade12161f4c25a9e",
            "b7ef8fac6c8441bb80fd477a7d63a2d7",
            "fe37e54881844266ac23ed579ee3562b",
            "0c885467f96046f2a59813a85d94d47e",
            "e036eb15aa6a4b6db5b66019b496d6f4",
            "2e38c439a1e74220bdf1c89c99608287",
            "62a5752b9b554f23b27dbe7f5b5f47a7"
          ]
        },
        "id": "IN6_sA7_3O6L",
        "outputId": "56ec578f-2aad-4c66-8b40-c81fc725b323"
      },
      "outputs": [
        {
          "metadata": {
            "tags": null
          },
          "name": "stderr",
          "output_type": "stream",
          "text": [
            "<ipython-input-9-90230f62378b>:5: TqdmDeprecationWarning: This function will be removed in tqdm==5.0.0\n",
            "Please use `tqdm.notebook.tqdm` instead of `tqdm.tqdm_notebook`\n",
            "  for k in tqdm_notebook(range(1,21,1)):\n"
          ]
        },
        {
          "data": {
            "application/vnd.jupyter.widget-view+json": {
              "model_id": "167d194e28b048108ac18e9aeb78958a",
              "version_major": 2,
              "version_minor": 0
            },
            "text/plain": [
              "  0%|          | 0/20 [00:00<?, ?it/s]"
            ]
          },
          "metadata": {},
          "output_type": "display_data"
        },
        {
          "output_type": "stream",
          "name": "stdout",
          "text": [
            "NOISELESS: k: 1, train_loss: 0.2211, test_loss: 0.3316 // -\n",
            "25% NOISE: k: 1, train_loss: 0.2573, test_loss: 0.3359 // -\n",
            "\n",
            "\n",
            "NOISELESS: k: 2, train_loss: 0.0199, test_loss: 0.2034 // -\n",
            "25% NOISE: k: 2, train_loss: 0.0322, test_loss: 0.2445 // -\n",
            "\n",
            "\n",
            "NOISELESS: k: 3, train_loss: 0.002, test_loss: 0.1481 // -\n",
            "25% NOISE: k: 3, train_loss: 0.0027, test_loss: 0.1752 // -\n",
            "\n",
            "\n",
            "NOISELESS: k: 4, train_loss: 0.0008, test_loss: 0.1363 // -\n",
            "25% NOISE: k: 4, train_loss: 0.0008, test_loss: 0.1767 // +\n",
            "\n",
            "\n",
            "NOISELESS: k: 5, train_loss: 0.0003, test_loss: 0.1109 // -\n",
            "25% NOISE: k: 5, train_loss: 0.0005, test_loss: 0.1155 // -\n",
            "\n",
            "\n",
            "NOISELESS: k: 6, train_loss: 0.0003, test_loss: 0.1083 // -\n",
            "25% NOISE: k: 6, train_loss: 0.0003, test_loss: 0.1153 // -\n",
            "\n",
            "\n",
            "NOISELESS: k: 7, train_loss: 0.0002, test_loss: 0.093 // -\n",
            "25% NOISE: k: 7, train_loss: 0.0002, test_loss: 0.1053 // -\n",
            "\n",
            "\n",
            "NOISELESS: k: 8, train_loss: 0.0001, test_loss: 0.0869 // -\n",
            "25% NOISE: k: 8, train_loss: 0.0001, test_loss: 0.1027 // -\n",
            "\n",
            "\n",
            "NOISELESS: k: 9, train_loss: 0.0001, test_loss: 0.0837 // -\n",
            "25% NOISE: k: 9, train_loss: 0.0001, test_loss: 0.0988 // -\n",
            "\n",
            "\n",
            "NOISELESS: k: 10, train_loss: 0.0001, test_loss: 0.0762 // -\n",
            "25% NOISE: k: 10, train_loss: 0.0001, test_loss: 0.0834 // -\n",
            "\n",
            "\n",
            "NOISELESS: k: 11, train_loss: 0.0001, test_loss: 0.0848 // +\n",
            "25% NOISE: k: 11, train_loss: 0.0001, test_loss: 0.0897 // +\n",
            "\n",
            "\n",
            "NOISELESS: k: 12, train_loss: 0.0001, test_loss: 0.0805 // -\n",
            "25% NOISE: k: 12, train_loss: 0.0001, test_loss: 0.0721 // -\n",
            "\n",
            "\n",
            "NOISELESS: k: 13, train_loss: 0.0001, test_loss: 0.0837 // +\n",
            "25% NOISE: k: 13, train_loss: 0.0001, test_loss: 0.0846 // +\n",
            "\n",
            "\n",
            "NOISELESS: k: 14, train_loss: 0.0, test_loss: 0.0789 // -\n",
            "25% NOISE: k: 14, train_loss: 0.0001, test_loss: 0.0848 // +\n",
            "\n",
            "\n",
            "NOISELESS: k: 15, train_loss: 0.0, test_loss: 0.0718 // -\n",
            "25% NOISE: k: 15, train_loss: 0.0001, test_loss: 0.072 // -\n",
            "\n",
            "\n",
            "NOISELESS: k: 16, train_loss: 0.0, test_loss: 0.0769 // +\n",
            "25% NOISE: k: 16, train_loss: 0.0, test_loss: 0.0693 // -\n",
            "\n",
            "\n",
            "NOISELESS: k: 17, train_loss: 0.0, test_loss: 0.0697 // -\n",
            "25% NOISE: k: 17, train_loss: 0.0, test_loss: 0.0783 // +\n",
            "\n",
            "\n",
            "NOISELESS: k: 18, train_loss: 0.0, test_loss: 0.0771 // +\n",
            "25% NOISE: k: 18, train_loss: 0.0, test_loss: 0.075 // -\n",
            "\n",
            "\n",
            "NOISELESS: k: 19, train_loss: 0.0, test_loss: 0.0744 // -\n",
            "25% NOISE: k: 19, train_loss: 0.0, test_loss: 0.0789 // +\n",
            "\n",
            "\n",
            "NOISELESS: k: 20, train_loss: 0.0, test_loss: 0.0687 // -\n",
            "25% NOISE: k: 20, train_loss: 0.0, test_loss: 0.077 // -\n",
            "\n",
            "\n"
          ]
        }
      ],
      "source": [
        "train_loss_noiseless = {}\n",
        "test_loss_noiseless = {}\n",
        "train_loss_noise = {}\n",
        "test_loss_noise = {}\n",
        "for k in tqdm_notebook(range(1,21,1)):\n",
        "    error_train_noiseless = []\n",
        "    error_test_noiseless = []\n",
        "    error_train_noise = []\n",
        "    error_test_noise = []\n",
        "    s = '-'\n",
        "    for _ in range(3):\n",
        "        #noiseless\n",
        "        net = cnn(k)\n",
        "        net.compile(loss=losses.CategoricalCrossentropy(), optimizer=optimizers.Adam(0.001),metrics=metrics.categorical_accuracy)\n",
        "        history = net.fit(X_train_6k,y_train_6k,batch_size=128,epochs=100,validation_data=(X_test,y_test),verbose=0)\n",
        "        error_train_noiseless.append(history.history['loss'][-1])\n",
        "        error_test_noiseless.append(history.history['val_loss'][-1])\n",
        "        #noise\n",
        "        net = cnn(k)\n",
        "        net.compile(loss=losses.CategoricalCrossentropy(), optimizer=optimizers.Adam(0.001),metrics=metrics.categorical_accuracy)\n",
        "        history = net.fit(X_train_noise_6k,y_train_6k,batch_size=128,epochs=100,validation_data=(X_test,y_test),verbose=0)\n",
        "        error_train_noise.append(history.history['loss'][-1])\n",
        "        error_test_noise.append(history.history['val_loss'][-1])\n",
        "    train_loss_noiseless[k] = np.mean(error_train_noiseless)\n",
        "    test_loss_noiseless[k] = np.mean(error_test_noiseless)\n",
        "    train_loss_noise[k] = np.mean(error_train_noise)\n",
        "    test_loss_noise[k] = np.mean(error_test_noise)\n",
        "\n",
        "    if k > 1:\n",
        "        if list(test_loss_noiseless.values())[-1] >= list(test_loss_noiseless.values())[-2]:\n",
        "            s = '+'\n",
        "        else:\n",
        "            s = '-'\n",
        "    print('NOISELESS: k: {}, train_loss: {}, test_loss: {} // {}'.format(k,round(train_loss_noiseless[k],4),round(test_loss_noiseless[k],4),s))\n",
        "    if k > 1:\n",
        "        if list(test_loss_noise.values())[-1] >= list(test_loss_noise.values())[-2]:\n",
        "            s = '+'\n",
        "        else:\n",
        "            s = '-'\n",
        "    print('25% NOISE: k: {}, train_loss: {}, test_loss: {} // {}'.format(k,round(train_loss_noise[k],4),round(test_loss_noise[k],4),s))\n",
        "    print()\n",
        "    print()"
      ]
    },
    {
      "cell_type": "code",
      "execution_count": null,
      "metadata": {
        "colab": {
          "base_uri": "https://localhost:8080/",
          "height": 774
        },
        "id": "DMBpXYeeStjn",
        "outputId": "09e41da8-2deb-44c9-d2a3-37974d124dda"
      },
      "outputs": [
        {
          "output_type": "stream",
          "name": "stderr",
          "text": [
            "<ipython-input-10-0db3221d8d09>:3: UserWarning: linestyle is redundantly defined by the 'linestyle' keyword argument and the fmt string \"bx-\" (-> linestyle='-'). The keyword argument will take precedence.\n",
            "  plt.plot(list(test_loss_noiseless.keys()),list(test_loss_noiseless.values()),'bx-',marker = '.',linestyle='--',\n",
            "<ipython-input-10-0db3221d8d09>:3: UserWarning: marker is redundantly defined by the 'marker' keyword argument and the fmt string \"bx-\" (-> marker='x'). The keyword argument will take precedence.\n",
            "  plt.plot(list(test_loss_noiseless.keys()),list(test_loss_noiseless.values()),'bx-',marker = '.',linestyle='--',\n",
            "<ipython-input-10-0db3221d8d09>:3: UserWarning: color is redundantly defined by the 'color' keyword argument and the fmt string \"bx-\" (-> color='b'). The keyword argument will take precedence.\n",
            "  plt.plot(list(test_loss_noiseless.keys()),list(test_loss_noiseless.values()),'bx-',marker = '.',linestyle='--',\n",
            "<ipython-input-10-0db3221d8d09>:5: UserWarning: linestyle is redundantly defined by the 'linestyle' keyword argument and the fmt string \"bx-\" (-> linestyle='-'). The keyword argument will take precedence.\n",
            "  plt.plot(list(test_loss_noise.keys()),list(test_loss_noise.values()),'bx-',marker = '.',linestyle='--',\n",
            "<ipython-input-10-0db3221d8d09>:5: UserWarning: marker is redundantly defined by the 'marker' keyword argument and the fmt string \"bx-\" (-> marker='x'). The keyword argument will take precedence.\n",
            "  plt.plot(list(test_loss_noise.keys()),list(test_loss_noise.values()),'bx-',marker = '.',linestyle='--',\n",
            "<ipython-input-10-0db3221d8d09>:5: UserWarning: color is redundantly defined by the 'color' keyword argument and the fmt string \"bx-\" (-> color='b'). The keyword argument will take precedence.\n",
            "  plt.plot(list(test_loss_noise.keys()),list(test_loss_noise.values()),'bx-',marker = '.',linestyle='--',\n"
          ]
        },
        {
          "output_type": "display_data",
          "data": {
            "text/plain": [
              "<Figure size 1200x900 with 1 Axes>"
            ],
            "image/png": "[encoded data removed]"
          },
          "metadata": {}
        }
      ],
      "source": [
        "# multiple line plot\n",
        "plt.figure(figsize=(12,9))\n",
        "plt.plot(list(test_loss_noiseless.keys()),list(test_loss_noiseless.values()),'bx-',marker = '.',linestyle='--',\n",
        "         markerfacecolor='yellow', color='skyblue', linewidth=2,markersize=12,label='Noiseless')\n",
        "plt.plot(list(test_loss_noise.keys()),list(test_loss_noise.values()),'bx-',marker = '.',linestyle='--',\n",
        "         markerfacecolor='orange', color='tomato', linewidth=2,markersize=12,label='25% Noise')\n",
        "plt.xlabel('Width Parameter',fontsize=16)\n",
        "plt.ylabel('Test Loss',fontsize=16)\n",
        "plt.title('CNN Model-Wise',fontsize=20)\n",
        "plt.legend()\n",
        "plt.grid()\n",
        "plt.show()"
      ]
    },
    {
      "cell_type": "markdown",
      "metadata": {
        "id": "gKUORHTKboKJ"
      },
      "source": [
        "## SAMLE-WISE DOUBLE DESCENT"
      ]
    },
    {
      "cell_type": "code",
      "execution_count": null,
      "metadata": {
        "colab": {
          "base_uri": "https://localhost:8080/",
          "height": 411,
          "referenced_widgets": [
            "1e8b25f426044d5b90835cecdce6e407",
            "922388b8a15945f88e17f216fac1189d",
            "21832688378341d0b9a805e7608882a3",
            "4dc1fd93dda74ceba835d133d2fbe104",
            "d61435f4282a409096a928f88f6475bc",
            "2de6ebaa9a4b4ca9800381111646555b",
            "4ccbbfe41620485fa5ad2f8bc4b6a2db",
            "2d5dfcca6f574a2b87e8465a316a4c0a",
            "1e45d662029d4e3383d4d472c4ab0294",
            "4d7cbd86f9994732bb645cb1d7aebcd8",
            "59dbd8e04bf942a5992669deb02d430f"
          ]
        },
        "id": "gyxC0tgbrzb4",
        "outputId": "f3d1bc3d-4fd2-4e3e-c420-9fed1174b86b"
      },
      "outputs": [
        {
          "output_type": "stream",
          "name": "stderr",
          "text": [
            "<ipython-input-6-dbf0ea5e937a>:5: TqdmDeprecationWarning: This function will be removed in tqdm==5.0.0\n",
            "Please use `tqdm.notebook.tqdm` instead of `tqdm.tqdm_notebook`\n",
            "  for k in tqdm_notebook(range(1,21,1)):\n"
          ]
        },
        {
          "output_type": "display_data",
          "data": {
            "text/plain": [
              "  0%|          | 0/20 [00:00<?, ?it/s]"
            ],
            "application/vnd.jupyter.widget-view+json": {
              "version_major": 2,
              "version_minor": 0,
              "model_id": "1e8b25f426044d5b90835cecdce6e407"
            }
          },
          "metadata": {}
        },
        {
          "output_type": "stream",
          "name": "stdout",
          "text": [
            "6k SAMPLES: k: 1, train_loss: 0.3607, test_loss: 0.443 // -\n",
            "12k SAMPLES: k: 1, train_loss: 0.3139, test_loss: 0.3717 // -\n",
            "\n",
            "\n",
            "6k SAMPLES: k: 2, train_loss: 0.0913, test_loss: 0.245 // -\n",
            "12k SAMPLES: k: 2, train_loss: 0.0777, test_loss: 0.1498 // -\n",
            "\n",
            "\n",
            "6k SAMPLES: k: 3, train_loss: 0.0189, test_loss: 0.1954 // -\n",
            "12k SAMPLES: k: 3, train_loss: 0.0189, test_loss: 0.127 // -\n",
            "\n",
            "\n",
            "6k SAMPLES: k: 4, train_loss: 0.0028, test_loss: 0.2147 // +\n",
            "12k SAMPLES: k: 4, train_loss: 0.0059, test_loss: 0.144 // +\n",
            "\n",
            "\n"
          ]
        }
      ],
      "source": [
        "train_loss_6k = {}\n",
        "test_loss_6k = {}\n",
        "train_loss_12k = {}\n",
        "test_loss_12k = {}\n",
        "for k in tqdm_notebook(range(1,21,1)):\n",
        "    error_train_6k = []\n",
        "    error_test_6k = []\n",
        "    error_train_12k = []\n",
        "    error_test_12k = []\n",
        "    s = '-'\n",
        "    for _ in range(3):\n",
        "        #6k samples\n",
        "        net = resnet(k)\n",
        "        net.compile(loss=losses.CategoricalCrossentropy(), optimizer=optimizers.Adam(0.001),metrics=metrics.categorical_accuracy)\n",
        "        history = net.fit(X_train_noise_6k,y_train_6k,batch_size=128,epochs=30,validation_data=(X_test,y_test),verbose=0)\n",
        "        error_train_6k.append(history.history['loss'][-1])\n",
        "        error_test_6k.append(history.history['val_loss'][-1])\n",
        "        #12k samples\n",
        "        net = resnet(k)\n",
        "        net.compile(loss=losses.CategoricalCrossentropy(), optimizer=optimizers.Adam(0.001),metrics=metrics.categorical_accuracy)\n",
        "        history = net.fit(X_train_noise_12k,y_train_12k,batch_size=128,epochs=30,validation_data=(X_test,y_test),verbose=0)\n",
        "        error_train_12k.append(history.history['loss'][-1])\n",
        "        error_test_12k.append(history.history['val_loss'][-1])\n",
        "    train_loss_6k[k] = np.mean(error_train_6k)\n",
        "    test_loss_6k[k] = np.mean(error_test_6k)\n",
        "    train_loss_12k[k] = np.mean(error_train_12k)\n",
        "    test_loss_12k[k] = np.mean(error_test_12k)\n",
        "\n",
        "    if k > 1:\n",
        "        if list(test_loss_6k.values())[-1] >= list(test_loss_6k.values())[-2]:\n",
        "            s = '+'\n",
        "        else:\n",
        "            s = '-'\n",
        "    print('6k SAMPLES: k: {}, train_loss: {}, test_loss: {} // {}'.format(k,round(train_loss_6k[k],4),round(test_loss_6k[k],4),s))\n",
        "    if k > 1:\n",
        "        if list(test_loss_12k.values())[-1] >= list(test_loss_12k.values())[-2]:\n",
        "            s = '+'\n",
        "        else:\n",
        "            s = '-'\n",
        "    print('12k SAMPLES: k: {}, train_loss: {}, test_loss: {} // {}'.format(k,round(train_loss_12k[k],4),round(test_loss_12k[k],4),s))\n",
        "    print()\n",
        "    print()"
      ]
    },
    {
      "cell_type": "code",
      "execution_count": null,
      "metadata": {
        "colab": {
          "base_uri": "https://localhost:8080/",
          "height": 577
        },
        "id": "0fY4BswxdiUS",
        "outputId": "5a5d4ff0-a4ed-4a7f-8256-86652c75819d"
      },
      "outputs": [
        {
          "data": {
            "image/png": "[encoded data removed]",
            "text/plain": [
              "<Figure size 864x648 with 1 Axes>"
            ]
          },
          "metadata": {
            "needs_background": "light",
            "tags": []
          },
          "output_type": "display_data"
        }
      ],
      "source": [
        "# multiple line plot\n",
        "plt.figure(figsize=(12,9))\n",
        "plt.plot(list(test_loss_6k.keys()),list(test_loss_6k.values()),'bx-',marker = '.',linestyle='--',\n",
        "         markerfacecolor='yellow', color='skyblue', linewidth=2,markersize=12,label='6k samples')\n",
        "plt.plot(list(test_loss_12k.keys()),list(test_loss_12k.values()),'bx-',marker = '.',linestyle='--',\n",
        "         markerfacecolor='orange', color='tomato', linewidth=2,markersize=12,label='12k samples')\n",
        "plt.xlabel('Width Parameter',fontsize=16)\n",
        "plt.ylabel('Test Loss',fontsize=16)\n",
        "plt.title('ResNet Model-Wise',fontsize=20)\n",
        "plt.legend()\n",
        "plt.grid()\n",
        "plt.show()"
      ]
    },
    {
      "cell_type": "markdown",
      "metadata": {
        "id": "M4qt7z8kdwOC"
      },
      "source": [
        "## EPOCH-WISE DOUBLE DESCENT"
      ]
    },
    {
      "cell_type": "code",
      "execution_count": null,
      "metadata": {
        "colab": {
          "base_uri": "https://localhost:8080/",
          "height": 988,
          "referenced_widgets": [
            "2bac79f67fd14b99873af4704ec8f8dc",
            "11667e0374794ed39574329ecf0378cb",
            "5e50d5e48175414ebce8f143c432ab68",
            "c608c151e5d04b6cb3eadbe857f26e9c",
            "8a85e215fb414e9bac319df39983c5c7",
            "e0e1e11355d34e21b5622c37220238b8",
            "7de4c1ff83eb47e7a0bd15fbc1ee47d1",
            "94bc02c93d804f4a90b265e4fe311ce0",
            "30a947cebd5d4c069f76376817975646",
            "b99c86d2be4c41b497026ab769bf2621",
            "4ce40a6ae67c4d85b8c2b03f1c195202"
          ]
        },
        "id": "IlGCkM4NoCho",
        "outputId": "941db067-e238-4289-c095-749534684b90"
      },
      "outputs": [
        {
          "output_type": "stream",
          "name": "stdout",
          "text": [
            "\n",
            "Model width parameter k: 3\n"
          ]
        },
        {
          "output_type": "stream",
          "name": "stderr",
          "text": [
            "<ipython-input-8-a8387965c1bc>:8: TqdmDeprecationWarning: This function will be removed in tqdm==5.0.0\n",
            "Please use `tqdm.notebook.tqdm` instead of `tqdm.tqdm_notebook`\n",
            "  for e in tqdm_notebook(range(5,60,1)):\n"
          ]
        },
        {
          "output_type": "display_data",
          "data": {
            "text/plain": [
              "  0%|          | 0/55 [00:00<?, ?it/s]"
            ],
            "application/vnd.jupyter.widget-view+json": {
              "version_major": 2,
              "version_minor": 0,
              "model_id": "2bac79f67fd14b99873af4704ec8f8dc"
            }
          },
          "metadata": {}
        },
        {
          "output_type": "stream",
          "name": "stdout",
          "text": [
            "Epoch: 5, train_loss: 0.5338, test_loss: 1.7255 // -\n",
            "Epoch: 6, train_loss: 0.423, test_loss: 1.1178 // -\n",
            "Epoch: 7, train_loss: 0.3783, test_loss: 0.8688 // -\n",
            "Epoch: 8, train_loss: 0.3065, test_loss: 0.4566 // -\n",
            "Epoch: 9, train_loss: 0.2449, test_loss: 0.4178 // -\n",
            "Epoch: 10, train_loss: 0.2247, test_loss: 0.3245 // -\n",
            "Epoch: 11, train_loss: 0.2265, test_loss: 0.3162 // -\n",
            "Epoch: 12, train_loss: 0.1894, test_loss: 0.2488 // -\n",
            "Epoch: 13, train_loss: 0.1786, test_loss: 0.2483 // -\n",
            "Epoch: 14, train_loss: 0.1712, test_loss: 0.2394 // -\n",
            "Epoch: 15, train_loss: 0.1588, test_loss: 0.2135 // -\n",
            "Epoch: 16, train_loss: 0.1453, test_loss: 0.2054 // -\n",
            "Epoch: 17, train_loss: 0.1472, test_loss: 0.2179 // +\n",
            "Epoch: 18, train_loss: 0.1187, test_loss: 0.187 // -\n",
            "Epoch: 19, train_loss: 0.1194, test_loss: 0.1874 // +\n",
            "Epoch: 20, train_loss: 0.1027, test_loss: 0.1922 // +\n",
            "Epoch: 21, train_loss: 0.1025, test_loss: 0.1866 // -\n",
            "Epoch: 22, train_loss: 0.0925, test_loss: 0.1775 // -\n",
            "Epoch: 23, train_loss: 0.0877, test_loss: 0.1699 // -\n",
            "Epoch: 24, train_loss: 0.0844, test_loss: 0.1714 // +\n",
            "Epoch: 25, train_loss: 0.0738, test_loss: 0.1694 // -\n",
            "Epoch: 26, train_loss: 0.0798, test_loss: 0.1788 // +\n",
            "Epoch: 27, train_loss: 0.0703, test_loss: 0.1625 // -\n",
            "Epoch: 28, train_loss: 0.0695, test_loss: 0.1672 // +\n",
            "Epoch: 29, train_loss: 0.0542, test_loss: 0.1732 // +\n",
            "Epoch: 30, train_loss: 0.0601, test_loss: 0.1566 // -\n",
            "Epoch: 31, train_loss: 0.0508, test_loss: 0.1492 // -\n",
            "Epoch: 32, train_loss: 0.0454, test_loss: 0.1526 // +\n",
            "Epoch: 33, train_loss: 0.0456, test_loss: 0.1538 // +\n",
            "Epoch: 34, train_loss: 0.046, test_loss: 0.1427 // -\n",
            "Epoch: 35, train_loss: 0.0426, test_loss: 0.1483 // +\n",
            "Epoch: 36, train_loss: 0.0478, test_loss: 0.1722 // +\n",
            "Epoch: 37, train_loss: 0.046, test_loss: 0.1638 // -\n",
            "Epoch: 38, train_loss: 0.0355, test_loss: 0.1679 // +\n",
            "Epoch: 39, train_loss: 0.0379, test_loss: 0.1621 // -\n",
            "Epoch: 40, train_loss: 0.0299, test_loss: 0.1579 // -\n",
            "Epoch: 41, train_loss: 0.033, test_loss: 0.1717 // +\n",
            "Epoch: 42, train_loss: 0.0315, test_loss: 0.1467 // -\n",
            "Epoch: 43, train_loss: 0.026, test_loss: 0.1482 // +\n",
            "Epoch: 44, train_loss: 0.0266, test_loss: 0.1446 // -\n",
            "Epoch: 45, train_loss: 0.0299, test_loss: 0.169 // +\n",
            "Epoch: 46, train_loss: 0.0257, test_loss: 0.1591 // -\n",
            "Epoch: 47, train_loss: 0.0254, test_loss: 0.1517 // -\n",
            "Epoch: 48, train_loss: 0.0239, test_loss: 0.1705 // +\n",
            "Epoch: 49, train_loss: 0.0201, test_loss: 0.1535 // -\n",
            "Epoch: 50, train_loss: 0.019, test_loss: 0.1455 // -\n"
          ]
        }
      ],
      "source": [
        "train_loss = {}\n",
        "test_loss = {}\n",
        "for k in [3,12,48]:\n",
        "    print()\n",
        "    print('Model width parameter k: {}'.format(k))\n",
        "    train_loss[k] = {}\n",
        "    test_loss[k] = {}\n",
        "    for e in tqdm_notebook(range(5,60,1)):\n",
        "        error_train = []\n",
        "        error_test = []\n",
        "        s = '-'\n",
        "        for _ in range(3):\n",
        "            net = cnn(k)\n",
        "            net.compile(loss=losses.CategoricalCrossentropy(), optimizer=optimizers.Adam(0.001),metrics=metrics.categorical_accuracy)\n",
        "            history = net.fit(X_train_noise_6k,y_train_6k,batch_size=128,epochs=e,validation_data=(X_test,y_test),verbose=0)\n",
        "            error_train.append(history.history['loss'][-1])\n",
        "            error_test.append(history.history['val_loss'][-1])\n",
        "        train_loss[k][e] = np.mean(error_train)\n",
        "        test_loss[k][e] = np.mean(error_test)\n",
        "        if e > 5:\n",
        "            if list(test_loss[k].values())[-1] >= list(test_loss[k].values())[-2]:\n",
        "                s = '+'\n",
        "            else:\n",
        "                s = '-'\n",
        "        print('Epoch: {}, train_loss: {}, test_loss: {} // {}'.format(e,round(train_loss[k][e],4),round(test_loss[k][e],4),s))"
      ]
    },
    {
      "cell_type": "code",
      "execution_count": null,
      "metadata": {
        "id": "Ir62WsN6GCyF"
      },
      "outputs": [],
      "source": [
        "import pandas as pd\n",
        "df = pd.read_csv('resnet_epoch_wise.csv')\n",
        "test_loss = {}\n",
        "test_loss[3] = dict(zip(df['epoch'].values,df['3'].values))\n",
        "test_loss[12] = dict(zip(df['epoch'].values,df['12'].values))\n",
        "test_loss[48] = dict(zip(df['epoch'].values,df['48'].values))"
      ]
    },
    {
      "cell_type": "code",
      "execution_count": null,
      "metadata": {
        "id": "IE0xsPGWGCyF"
      },
      "outputs": [],
      "source": [
        "def movingaverage(interval, window_size):\n",
        "    window= np.ones(int(window_size))/float(window_size)\n",
        "    return np.convolve(interval, window, 'same')\n",
        "\n",
        "\n",
        "y_av_3 = movingaverage(list(test_loss[3].values()), 5)\n",
        "y_av_12 = movingaverage(list(test_loss[12].values()), 5)\n",
        "y_av_48 = movingaverage(list(test_loss[48].values()), 5)"
      ]
    },
    {
      "cell_type": "code",
      "execution_count": null,
      "metadata": {
        "colab": {
          "base_uri": "https://localhost:8080/",
          "height": 577
        },
        "id": "sWyLYodCocYM",
        "outputId": "3e177b4f-b33a-4767-b1ee-00cfad5f3998"
      },
      "outputs": [
        {
          "data": {
            "image/png": "[encoded data removed]",
            "text/plain": [
              "<Figure size 864x648 with 1 Axes>"
            ]
          },
          "metadata": {
            "needs_background": "light"
          },
          "output_type": "display_data"
        }
      ],
      "source": [
        "#multiple line plot\n",
        "plt.figure(figsize=(12,9))\n",
        "plt.scatter(list(test_loss[3].keys()),list(test_loss[3].values()),marker = 'o',label='k=3',\n",
        "            facecolor='yellow',color='skyblue',s=20,alpha=0.4)\n",
        "plt.plot(list(test_loss[3].keys())[2:-2],y_av_3[2:-2],'bx-',marker = '.',linestyle='-', color='skyblue',\n",
        "         linewidth=2,label='mov.avg for k=3')\n",
        "plt.scatter(list(test_loss[12].keys()),list(test_loss[12].values()),marker = 'o',label='k=12',\n",
        "            facecolor='blue',color='purple',s=20,alpha=0.4)\n",
        "plt.plot(list(test_loss[12].keys())[2:-2],y_av_12[2:-2],'bx-',marker = '.',linestyle='-', color='purple',\n",
        "         linewidth=2,label='mov.avg for k=12')\n",
        "plt.scatter(list(test_loss[48].keys()),list(test_loss[48].values()),marker = 'o',label='k=48',\n",
        "            facecolor='orange',color='tomato',s=20,alpha=0.4)\n",
        "plt.plot(list(test_loss[48].keys())[2:-2],y_av_48[2:-2],'bx-',marker = '.',linestyle='-', color='tomato',\n",
        "         linewidth=2,label='mov.avg for k=48')\n",
        "plt.xlabel('Epochs',fontsize=16)\n",
        "plt.ylabel('Test Loss',fontsize=16)\n",
        "plt.title('ResNet Epoch-Wise',fontsize=20)\n",
        "plt.legend()\n",
        "plt.grid()\n",
        "plt.show()"
      ]
    }
  ],
  "metadata": {
    "accelerator": "GPU",
    "colab": {
      "provenance": [],
      "gpuType": "T4",
      "include_colab_link": true
    },
    "kernelspec": {
      "display_name": "Python 3",
      "name": "python3"
    },
    "language_info": {
      "codemirror_mode": {
        "name": "ipython",
        "version": 3
      },
      "file_extension": ".py",
      "mimetype": "text/x-python",
      "name": "python",
      "nbconvert_exporter": "python",
      "pygments_lexer": "ipython3",
      "version": "3.7.3"
    },
    "widgets": {
      "application/vnd.jupyter.widget-state+json": {
        "167d194e28b048108ac18e9aeb78958a": {
          "model_module": "@jupyter-widgets/controls",
          "model_name": "HBoxModel",
          "model_module_version": "1.5.0",
          "state": {
            "_dom_classes": [],
            "_model_module": "@jupyter-widgets/controls",
            "_model_module_version": "1.5.0",
            "_model_name": "HBoxModel",
            "_view_count": null,
            "_view_module": "@jupyter-widgets/controls",
            "_view_module_version": "1.5.0",
            "_view_name": "HBoxView",
            "box_style": "",
            "children": [
              "IPY_MODEL_896e0d4aaab54c79977f521271215ea5",
              "IPY_MODEL_e1b2431baf5842ff8e08fce48941347b",
              "IPY_MODEL_3865f3703ee047db94cb9d54d5ef1a8b"
            ],
            "layout": "IPY_MODEL_994d6bc305c8439dade12161f4c25a9e"
          }
        },
        "896e0d4aaab54c79977f521271215ea5": {
          "model_module": "@jupyter-widgets/controls",
          "model_name": "HTMLModel",
          "model_module_version": "1.5.0",
          "state": {
            "_dom_classes": [],
            "_model_module": "@jupyter-widgets/controls",
            "_model_module_version": "1.5.0",
            "_model_name": "HTMLModel",
            "_view_count": null,
            "_view_module": "@jupyter-widgets/controls",
            "_view_module_version": "1.5.0",
            "_view_name": "HTMLView",
            "description": "",
            "description_tooltip": null,
            "layout": "IPY_MODEL_b7ef8fac6c8441bb80fd477a7d63a2d7",
            "placeholder": "​",
            "style": "IPY_MODEL_fe37e54881844266ac23ed579ee3562b",
            "value": "100%"
          }
        },
        "e1b2431baf5842ff8e08fce48941347b": {
          "model_module": "@jupyter-widgets/controls",
          "model_name": "FloatProgressModel",
          "model_module_version": "1.5.0",
          "state": {
            "_dom_classes": [],
            "_model_module": "@jupyter-widgets/controls",
            "_model_module_version": "1.5.0",
            "_model_name": "FloatProgressModel",
            "_view_count": null,
            "_view_module": "@jupyter-widgets/controls",
            "_view_module_version": "1.5.0",
            "_view_name": "ProgressView",
            "bar_style": "success",
            "description": "",
            "description_tooltip": null,
            "layout": "IPY_MODEL_0c885467f96046f2a59813a85d94d47e",
            "max": 20,
            "min": 0,
            "orientation": "horizontal",
            "style": "IPY_MODEL_e036eb15aa6a4b6db5b66019b496d6f4",
            "value": 20
          }
        },
        "3865f3703ee047db94cb9d54d5ef1a8b": {
          "model_module": "@jupyter-widgets/controls",
          "model_name": "HTMLModel",
          "model_module_version": "1.5.0",
          "state": {
            "_dom_classes": [],
            "_model_module": "@jupyter-widgets/controls",
            "_model_module_version": "1.5.0",
            "_model_name": "HTMLModel",
            "_view_count": null,
            "_view_module": "@jupyter-widgets/controls",
            "_view_module_version": "1.5.0",
            "_view_name": "HTMLView",
            "description": "",
            "description_tooltip": null,
            "layout": "IPY_MODEL_2e38c439a1e74220bdf1c89c99608287",
            "placeholder": "​",
            "style": "IPY_MODEL_62a5752b9b554f23b27dbe7f5b5f47a7",
            "value": " 20/20 [1:34:39&lt;00:00, 376.67s/it]"
          }
        },
        "994d6bc305c8439dade12161f4c25a9e": {
          "model_module": "@jupyter-widgets/base",
          "model_name": "LayoutModel",
          "model_module_version": "1.2.0",
          "state": {
            "_model_module": "@jupyter-widgets/base",
            "_model_module_version": "1.2.0",
            "_model_name": "LayoutModel",
            "_view_count": null,
            "_view_module": "@jupyter-widgets/base",
            "_view_module_version": "1.2.0",
            "_view_name": "LayoutView",
            "align_content": null,
            "align_items": null,
            "align_self": null,
            "border": null,
            "bottom": null,
            "display": null,
            "flex": null,
            "flex_flow": null,
            "grid_area": null,
            "grid_auto_columns": null,
            "grid_auto_flow": null,
            "grid_auto_rows": null,
            "grid_column": null,
            "grid_gap": null,
            "grid_row": null,
            "grid_template_areas": null,
            "grid_template_columns": null,
            "grid_template_rows": null,
            "height": null,
            "justify_content": null,
            "justify_items": null,
            "left": null,
            "margin": null,
            "max_height": null,
            "max_width": null,
            "min_height": null,
            "min_width": null,
            "object_fit": null,
            "object_position": null,
            "order": null,
            "overflow": null,
            "overflow_x": null,
            "overflow_y": null,
            "padding": null,
            "right": null,
            "top": null,
            "visibility": null,
            "width": null
          }
        },
        "b7ef8fac6c8441bb80fd477a7d63a2d7": {
          "model_module": "@jupyter-widgets/base",
          "model_name": "LayoutModel",
          "model_module_version": "1.2.0",
          "state": {
            "_model_module": "@jupyter-widgets/base",
            "_model_module_version": "1.2.0",
            "_model_name": "LayoutModel",
            "_view_count": null,
            "_view_module": "@jupyter-widgets/base",
            "_view_module_version": "1.2.0",
            "_view_name": "LayoutView",
            "align_content": null,
            "align_items": null,
            "align_self": null,
            "border": null,
            "bottom": null,
            "display": null,
            "flex": null,
            "flex_flow": null,
            "grid_area": null,
            "grid_auto_columns": null,
            "grid_auto_flow": null,
            "grid_auto_rows": null,
            "grid_column": null,
            "grid_gap": null,
            "grid_row": null,
            "grid_template_areas": null,
            "grid_template_columns": null,
            "grid_template_rows": null,
            "height": null,
            "justify_content": null,
            "justify_items": null,
            "left": null,
            "margin": null,
            "max_height": null,
            "max_width": null,
            "min_height": null,
            "min_width": null,
            "object_fit": null,
            "object_position": null,
            "order": null,
            "overflow": null,
            "overflow_x": null,
            "overflow_y": null,
            "padding": null,
            "right": null,
            "top": null,
            "visibility": null,
            "width": null
          }
        },
        "fe37e54881844266ac23ed579ee3562b": {
          "model_module": "@jupyter-widgets/controls",
          "model_name": "DescriptionStyleModel",
          "model_module_version": "1.5.0",
          "state": {
            "_model_module": "@jupyter-widgets/controls",
            "_model_module_version": "1.5.0",
            "_model_name": "DescriptionStyleModel",
            "_view_count": null,
            "_view_module": "@jupyter-widgets/base",
            "_view_module_version": "1.2.0",
            "_view_name": "StyleView",
            "description_width": ""
          }
        },
        "0c885467f96046f2a59813a85d94d47e": {
          "model_module": "@jupyter-widgets/base",
          "model_name": "LayoutModel",
          "model_module_version": "1.2.0",
          "state": {
            "_model_module": "@jupyter-widgets/base",
            "_model_module_version": "1.2.0",
            "_model_name": "LayoutModel",
            "_view_count": null,
            "_view_module": "@jupyter-widgets/base",
            "_view_module_version": "1.2.0",
            "_view_name": "LayoutView",
            "align_content": null,
            "align_items": null,
            "align_self": null,
            "border": null,
            "bottom": null,
            "display": null,
            "flex": null,
            "flex_flow": null,
            "grid_area": null,
            "grid_auto_columns": null,
            "grid_auto_flow": null,
            "grid_auto_rows": null,
            "grid_column": null,
            "grid_gap": null,
            "grid_row": null,
            "grid_template_areas": null,
            "grid_template_columns": null,
            "grid_template_rows": null,
            "height": null,
            "justify_content": null,
            "justify_items": null,
            "left": null,
            "margin": null,
            "max_height": null,
            "max_width": null,
            "min_height": null,
            "min_width": null,
            "object_fit": null,
            "object_position": null,
            "order": null,
            "overflow": null,
            "overflow_x": null,
            "overflow_y": null,
            "padding": null,
            "right": null,
            "top": null,
            "visibility": null,
            "width": null
          }
        },
        "e036eb15aa6a4b6db5b66019b496d6f4": {
          "model_module": "@jupyter-widgets/controls",
          "model_name": "ProgressStyleModel",
          "model_module_version": "1.5.0",
          "state": {
            "_model_module": "@jupyter-widgets/controls",
            "_model_module_version": "1.5.0",
            "_model_name": "ProgressStyleModel",
            "_view_count": null,
            "_view_module": "@jupyter-widgets/base",
            "_view_module_version": "1.2.0",
            "_view_name": "StyleView",
            "bar_color": null,
            "description_width": ""
          }
        },
        "2e38c439a1e74220bdf1c89c99608287": {
          "model_module": "@jupyter-widgets/base",
          "model_name": "LayoutModel",
          "model_module_version": "1.2.0",
          "state": {
            "_model_module": "@jupyter-widgets/base",
            "_model_module_version": "1.2.0",
            "_model_name": "LayoutModel",
            "_view_count": null,
            "_view_module": "@jupyter-widgets/base",
            "_view_module_version": "1.2.0",
            "_view_name": "LayoutView",
            "align_content": null,
            "align_items": null,
            "align_self": null,
            "border": null,
            "bottom": null,
            "display": null,
            "flex": null,
            "flex_flow": null,
            "grid_area": null,
            "grid_auto_columns": null,
            "grid_auto_flow": null,
            "grid_auto_rows": null,
            "grid_column": null,
            "grid_gap": null,
            "grid_row": null,
            "grid_template_areas": null,
            "grid_template_columns": null,
            "grid_template_rows": null,
            "height": null,
            "justify_content": null,
            "justify_items": null,
            "left": null,
            "margin": null,
            "max_height": null,
            "max_width": null,
            "min_height": null,
            "min_width": null,
            "object_fit": null,
            "object_position": null,
            "order": null,
            "overflow": null,
            "overflow_x": null,
            "overflow_y": null,
            "padding": null,
            "right": null,
            "top": null,
            "visibility": null,
            "width": null
          }
        },
        "62a5752b9b554f23b27dbe7f5b5f47a7": {
          "model_module": "@jupyter-widgets/controls",
          "model_name": "DescriptionStyleModel",
          "model_module_version": "1.5.0",
          "state": {
            "_model_module": "@jupyter-widgets/controls",
            "_model_module_version": "1.5.0",
            "_model_name": "DescriptionStyleModel",
            "_view_count": null,
            "_view_module": "@jupyter-widgets/base",
            "_view_module_version": "1.2.0",
            "_view_name": "StyleView",
            "description_width": ""
          }
        },
        "1e8b25f426044d5b90835cecdce6e407": {
          "model_module": "@jupyter-widgets/controls",
          "model_name": "HBoxModel",
          "model_module_version": "1.5.0",
          "state": {
            "_dom_classes": [],
            "_model_module": "@jupyter-widgets/controls",
            "_model_module_version": "1.5.0",
            "_model_name": "HBoxModel",
            "_view_count": null,
            "_view_module": "@jupyter-widgets/controls",
            "_view_module_version": "1.5.0",
            "_view_name": "HBoxView",
            "box_style": "",
            "children": [
              "IPY_MODEL_922388b8a15945f88e17f216fac1189d",
              "IPY_MODEL_21832688378341d0b9a805e7608882a3",
              "IPY_MODEL_4dc1fd93dda74ceba835d133d2fbe104"
            ],
            "layout": "IPY_MODEL_d61435f4282a409096a928f88f6475bc"
          }
        },
        "922388b8a15945f88e17f216fac1189d": {
          "model_module": "@jupyter-widgets/controls",
          "model_name": "HTMLModel",
          "model_module_version": "1.5.0",
          "state": {
            "_dom_classes": [],
            "_model_module": "@jupyter-widgets/controls",
            "_model_module_version": "1.5.0",
            "_model_name": "HTMLModel",
            "_view_count": null,
            "_view_module": "@jupyter-widgets/controls",
            "_view_module_version": "1.5.0",
            "_view_name": "HTMLView",
            "description": "",
            "description_tooltip": null,
            "layout": "IPY_MODEL_2de6ebaa9a4b4ca9800381111646555b",
            "placeholder": "​",
            "style": "IPY_MODEL_4ccbbfe41620485fa5ad2f8bc4b6a2db",
            "value": " 20%"
          }
        },
        "21832688378341d0b9a805e7608882a3": {
          "model_module": "@jupyter-widgets/controls",
          "model_name": "FloatProgressModel",
          "model_module_version": "1.5.0",
          "state": {
            "_dom_classes": [],
            "_model_module": "@jupyter-widgets/controls",
            "_model_module_version": "1.5.0",
            "_model_name": "FloatProgressModel",
            "_view_count": null,
            "_view_module": "@jupyter-widgets/controls",
            "_view_module_version": "1.5.0",
            "_view_name": "ProgressView",
            "bar_style": "",
            "description": "",
            "description_tooltip": null,
            "layout": "IPY_MODEL_2d5dfcca6f574a2b87e8465a316a4c0a",
            "max": 20,
            "min": 0,
            "orientation": "horizontal",
            "style": "IPY_MODEL_1e45d662029d4e3383d4d472c4ab0294",
            "value": 4
          }
        },
        "4dc1fd93dda74ceba835d133d2fbe104": {
          "model_module": "@jupyter-widgets/controls",
          "model_name": "HTMLModel",
          "model_module_version": "1.5.0",
          "state": {
            "_dom_classes": [],
            "_model_module": "@jupyter-widgets/controls",
            "_model_module_version": "1.5.0",
            "_model_name": "HTMLModel",
            "_view_count": null,
            "_view_module": "@jupyter-widgets/controls",
            "_view_module_version": "1.5.0",
            "_view_name": "HTMLView",
            "description": "",
            "description_tooltip": null,
            "layout": "IPY_MODEL_4d7cbd86f9994732bb645cb1d7aebcd8",
            "placeholder": "​",
            "style": "IPY_MODEL_59dbd8e04bf942a5992669deb02d430f",
            "value": " 4/20 [13:27&lt;53:19, 199.98s/it]"
          }
        },
        "d61435f4282a409096a928f88f6475bc": {
          "model_module": "@jupyter-widgets/base",
          "model_name": "LayoutModel",
          "model_module_version": "1.2.0",
          "state": {
            "_model_module": "@jupyter-widgets/base",
            "_model_module_version": "1.2.0",
            "_model_name": "LayoutModel",
            "_view_count": null,
            "_view_module": "@jupyter-widgets/base",
            "_view_module_version": "1.2.0",
            "_view_name": "LayoutView",
            "align_content": null,
            "align_items": null,
            "align_self": null,
            "border": null,
            "bottom": null,
            "display": null,
            "flex": null,
            "flex_flow": null,
            "grid_area": null,
            "grid_auto_columns": null,
            "grid_auto_flow": null,
            "grid_auto_rows": null,
            "grid_column": null,
            "grid_gap": null,
            "grid_row": null,
            "grid_template_areas": null,
            "grid_template_columns": null,
            "grid_template_rows": null,
            "height": null,
            "justify_content": null,
            "justify_items": null,
            "left": null,
            "margin": null,
            "max_height": null,
            "max_width": null,
            "min_height": null,
            "min_width": null,
            "object_fit": null,
            "object_position": null,
            "order": null,
            "overflow": null,
            "overflow_x": null,
            "overflow_y": null,
            "padding": null,
            "right": null,
            "top": null,
            "visibility": null,
            "width": null
          }
        },
        "2de6ebaa9a4b4ca9800381111646555b": {
          "model_module": "@jupyter-widgets/base",
          "model_name": "LayoutModel",
          "model_module_version": "1.2.0",
          "state": {
            "_model_module": "@jupyter-widgets/base",
            "_model_module_version": "1.2.0",
            "_model_name": "LayoutModel",
            "_view_count": null,
            "_view_module": "@jupyter-widgets/base",
            "_view_module_version": "1.2.0",
            "_view_name": "LayoutView",
            "align_content": null,
            "align_items": null,
            "align_self": null,
            "border": null,
            "bottom": null,
            "display": null,
            "flex": null,
            "flex_flow": null,
            "grid_area": null,
            "grid_auto_columns": null,
            "grid_auto_flow": null,
            "grid_auto_rows": null,
            "grid_column": null,
            "grid_gap": null,
            "grid_row": null,
            "grid_template_areas": null,
            "grid_template_columns": null,
            "grid_template_rows": null,
            "height": null,
            "justify_content": null,
            "justify_items": null,
            "left": null,
            "margin": null,
            "max_height": null,
            "max_width": null,
            "min_height": null,
            "min_width": null,
            "object_fit": null,
            "object_position": null,
            "order": null,
            "overflow": null,
            "overflow_x": null,
            "overflow_y": null,
            "padding": null,
            "right": null,
            "top": null,
            "visibility": null,
            "width": null
          }
        },
        "4ccbbfe41620485fa5ad2f8bc4b6a2db": {
          "model_module": "@jupyter-widgets/controls",
          "model_name": "DescriptionStyleModel",
          "model_module_version": "1.5.0",
          "state": {
            "_model_module": "@jupyter-widgets/controls",
            "_model_module_version": "1.5.0",
            "_model_name": "DescriptionStyleModel",
            "_view_count": null,
            "_view_module": "@jupyter-widgets/base",
            "_view_module_version": "1.2.0",
            "_view_name": "StyleView",
            "description_width": ""
          }
        },
        "2d5dfcca6f574a2b87e8465a316a4c0a": {
          "model_module": "@jupyter-widgets/base",
          "model_name": "LayoutModel",
          "model_module_version": "1.2.0",
          "state": {
            "_model_module": "@jupyter-widgets/base",
            "_model_module_version": "1.2.0",
            "_model_name": "LayoutModel",
            "_view_count": null,
            "_view_module": "@jupyter-widgets/base",
            "_view_module_version": "1.2.0",
            "_view_name": "LayoutView",
            "align_content": null,
            "align_items": null,
            "align_self": null,
            "border": null,
            "bottom": null,
            "display": null,
            "flex": null,
            "flex_flow": null,
            "grid_area": null,
            "grid_auto_columns": null,
            "grid_auto_flow": null,
            "grid_auto_rows": null,
            "grid_column": null,
            "grid_gap": null,
            "grid_row": null,
            "grid_template_areas": null,
            "grid_template_columns": null,
            "grid_template_rows": null,
            "height": null,
            "justify_content": null,
            "justify_items": null,
            "left": null,
            "margin": null,
            "max_height": null,
            "max_width": null,
            "min_height": null,
            "min_width": null,
            "object_fit": null,
            "object_position": null,
            "order": null,
            "overflow": null,
            "overflow_x": null,
            "overflow_y": null,
            "padding": null,
            "right": null,
            "top": null,
            "visibility": null,
            "width": null
          }
        },
        "1e45d662029d4e3383d4d472c4ab0294": {
          "model_module": "@jupyter-widgets/controls",
          "model_name": "ProgressStyleModel",
          "model_module_version": "1.5.0",
          "state": {
            "_model_module": "@jupyter-widgets/controls",
            "_model_module_version": "1.5.0",
            "_model_name": "ProgressStyleModel",
            "_view_count": null,
            "_view_module": "@jupyter-widgets/base",
            "_view_module_version": "1.2.0",
            "_view_name": "StyleView",
            "bar_color": null,
            "description_width": ""
          }
        },
        "4d7cbd86f9994732bb645cb1d7aebcd8": {
          "model_module": "@jupyter-widgets/base",
          "model_name": "LayoutModel",
          "model_module_version": "1.2.0",
          "state": {
            "_model_module": "@jupyter-widgets/base",
            "_model_module_version": "1.2.0",
            "_model_name": "LayoutModel",
            "_view_count": null,
            "_view_module": "@jupyter-widgets/base",
            "_view_module_version": "1.2.0",
            "_view_name": "LayoutView",
            "align_content": null,
            "align_items": null,
            "align_self": null,
            "border": null,
            "bottom": null,
            "display": null,
            "flex": null,
            "flex_flow": null,
            "grid_area": null,
            "grid_auto_columns": null,
            "grid_auto_flow": null,
            "grid_auto_rows": null,
            "grid_column": null,
            "grid_gap": null,
            "grid_row": null,
            "grid_template_areas": null,
            "grid_template_columns": null,
            "grid_template_rows": null,
            "height": null,
            "justify_content": null,
            "justify_items": null,
            "left": null,
            "margin": null,
            "max_height": null,
            "max_width": null,
            "min_height": null,
            "min_width": null,
            "object_fit": null,
            "object_position": null,
            "order": null,
            "overflow": null,
            "overflow_x": null,
            "overflow_y": null,
            "padding": null,
            "right": null,
            "top": null,
            "visibility": null,
            "width": null
          }
        },
        "59dbd8e04bf942a5992669deb02d430f": {
          "model_module": "@jupyter-widgets/controls",
          "model_name": "DescriptionStyleModel",
          "model_module_version": "1.5.0",
          "state": {
            "_model_module": "@jupyter-widgets/controls",
            "_model_module_version": "1.5.0",
            "_model_name": "DescriptionStyleModel",
            "_view_count": null,
            "_view_module": "@jupyter-widgets/base",
            "_view_module_version": "1.2.0",
            "_view_name": "StyleView",
            "description_width": ""
          }
        },
        "2bac79f67fd14b99873af4704ec8f8dc": {
          "model_module": "@jupyter-widgets/controls",
          "model_name": "HBoxModel",
          "model_module_version": "1.5.0",
          "state": {
            "_dom_classes": [],
            "_model_module": "@jupyter-widgets/controls",
            "_model_module_version": "1.5.0",
            "_model_name": "HBoxModel",
            "_view_count": null,
            "_view_module": "@jupyter-widgets/controls",
            "_view_module_version": "1.5.0",
            "_view_name": "HBoxView",
            "box_style": "",
            "children": [
              "IPY_MODEL_11667e0374794ed39574329ecf0378cb",
              "IPY_MODEL_5e50d5e48175414ebce8f143c432ab68",
              "IPY_MODEL_c608c151e5d04b6cb3eadbe857f26e9c"
            ],
            "layout": "IPY_MODEL_8a85e215fb414e9bac319df39983c5c7"
          }
        },
        "11667e0374794ed39574329ecf0378cb": {
          "model_module": "@jupyter-widgets/controls",
          "model_name": "HTMLModel",
          "model_module_version": "1.5.0",
          "state": {
            "_dom_classes": [],
            "_model_module": "@jupyter-widgets/controls",
            "_model_module_version": "1.5.0",
            "_model_name": "HTMLModel",
            "_view_count": null,
            "_view_module": "@jupyter-widgets/controls",
            "_view_module_version": "1.5.0",
            "_view_name": "HTMLView",
            "description": "",
            "description_tooltip": null,
            "layout": "IPY_MODEL_e0e1e11355d34e21b5622c37220238b8",
            "placeholder": "​",
            "style": "IPY_MODEL_7de4c1ff83eb47e7a0bd15fbc1ee47d1",
            "value": " 84%"
          }
        },
        "5e50d5e48175414ebce8f143c432ab68": {
          "model_module": "@jupyter-widgets/controls",
          "model_name": "FloatProgressModel",
          "model_module_version": "1.5.0",
          "state": {
            "_dom_classes": [],
            "_model_module": "@jupyter-widgets/controls",
            "_model_module_version": "1.5.0",
            "_model_name": "FloatProgressModel",
            "_view_count": null,
            "_view_module": "@jupyter-widgets/controls",
            "_view_module_version": "1.5.0",
            "_view_name": "ProgressView",
            "bar_style": "",
            "description": "",
            "description_tooltip": null,
            "layout": "IPY_MODEL_94bc02c93d804f4a90b265e4fe311ce0",
            "max": 55,
            "min": 0,
            "orientation": "horizontal",
            "style": "IPY_MODEL_30a947cebd5d4c069f76376817975646",
            "value": 46
          }
        },
        "c608c151e5d04b6cb3eadbe857f26e9c": {
          "model_module": "@jupyter-widgets/controls",
          "model_name": "HTMLModel",
          "model_module_version": "1.5.0",
          "state": {
            "_dom_classes": [],
            "_model_module": "@jupyter-widgets/controls",
            "_model_module_version": "1.5.0",
            "_model_name": "HTMLModel",
            "_view_count": null,
            "_view_module": "@jupyter-widgets/controls",
            "_view_module_version": "1.5.0",
            "_view_name": "HTMLView",
            "description": "",
            "description_tooltip": null,
            "layout": "IPY_MODEL_b99c86d2be4c41b497026ab769bf2621",
            "placeholder": "​",
            "style": "IPY_MODEL_4ce40a6ae67c4d85b8c2b03f1c195202",
            "value": " 46/55 [33:29&lt;12:58, 86.55s/it]"
          }
        },
        "8a85e215fb414e9bac319df39983c5c7": {
          "model_module": "@jupyter-widgets/base",
          "model_name": "LayoutModel",
          "model_module_version": "1.2.0",
          "state": {
            "_model_module": "@jupyter-widgets/base",
            "_model_module_version": "1.2.0",
            "_model_name": "LayoutModel",
            "_view_count": null,
            "_view_module": "@jupyter-widgets/base",
            "_view_module_version": "1.2.0",
            "_view_name": "LayoutView",
            "align_content": null,
            "align_items": null,
            "align_self": null,
            "border": null,
            "bottom": null,
            "display": null,
            "flex": null,
            "flex_flow": null,
            "grid_area": null,
            "grid_auto_columns": null,
            "grid_auto_flow": null,
            "grid_auto_rows": null,
            "grid_column": null,
            "grid_gap": null,
            "grid_row": null,
            "grid_template_areas": null,
            "grid_template_columns": null,
            "grid_template_rows": null,
            "height": null,
            "justify_content": null,
            "justify_items": null,
            "left": null,
            "margin": null,
            "max_height": null,
            "max_width": null,
            "min_height": null,
            "min_width": null,
            "object_fit": null,
            "object_position": null,
            "order": null,
            "overflow": null,
            "overflow_x": null,
            "overflow_y": null,
            "padding": null,
            "right": null,
            "top": null,
            "visibility": null,
            "width": null
          }
        },
        "e0e1e11355d34e21b5622c37220238b8": {
          "model_module": "@jupyter-widgets/base",
          "model_name": "LayoutModel",
          "model_module_version": "1.2.0",
          "state": {
            "_model_module": "@jupyter-widgets/base",
            "_model_module_version": "1.2.0",
            "_model_name": "LayoutModel",
            "_view_count": null,
            "_view_module": "@jupyter-widgets/base",
            "_view_module_version": "1.2.0",
            "_view_name": "LayoutView",
            "align_content": null,
            "align_items": null,
            "align_self": null,
            "border": null,
            "bottom": null,
            "display": null,
            "flex": null,
            "flex_flow": null,
            "grid_area": null,
            "grid_auto_columns": null,
            "grid_auto_flow": null,
            "grid_auto_rows": null,
            "grid_column": null,
            "grid_gap": null,
            "grid_row": null,
            "grid_template_areas": null,
            "grid_template_columns": null,
            "grid_template_rows": null,
            "height": null,
            "justify_content": null,
            "justify_items": null,
            "left": null,
            "margin": null,
            "max_height": null,
            "max_width": null,
            "min_height": null,
            "min_width": null,
            "object_fit": null,
            "object_position": null,
            "order": null,
            "overflow": null,
            "overflow_x": null,
            "overflow_y": null,
            "padding": null,
            "right": null,
            "top": null,
            "visibility": null,
            "width": null
          }
        },
        "7de4c1ff83eb47e7a0bd15fbc1ee47d1": {
          "model_module": "@jupyter-widgets/controls",
          "model_name": "DescriptionStyleModel",
          "model_module_version": "1.5.0",
          "state": {
            "_model_module": "@jupyter-widgets/controls",
            "_model_module_version": "1.5.0",
            "_model_name": "DescriptionStyleModel",
            "_view_count": null,
            "_view_module": "@jupyter-widgets/base",
            "_view_module_version": "1.2.0",
            "_view_name": "StyleView",
            "description_width": ""
          }
        },
        "94bc02c93d804f4a90b265e4fe311ce0": {
          "model_module": "@jupyter-widgets/base",
          "model_name": "LayoutModel",
          "model_module_version": "1.2.0",
          "state": {
            "_model_module": "@jupyter-widgets/base",
            "_model_module_version": "1.2.0",
            "_model_name": "LayoutModel",
            "_view_count": null,
            "_view_module": "@jupyter-widgets/base",
            "_view_module_version": "1.2.0",
            "_view_name": "LayoutView",
            "align_content": null,
            "align_items": null,
            "align_self": null,
            "border": null,
            "bottom": null,
            "display": null,
            "flex": null,
            "flex_flow": null,
            "grid_area": null,
            "grid_auto_columns": null,
            "grid_auto_flow": null,
            "grid_auto_rows": null,
            "grid_column": null,
            "grid_gap": null,
            "grid_row": null,
            "grid_template_areas": null,
            "grid_template_columns": null,
            "grid_template_rows": null,
            "height": null,
            "justify_content": null,
            "justify_items": null,
            "left": null,
            "margin": null,
            "max_height": null,
            "max_width": null,
            "min_height": null,
            "min_width": null,
            "object_fit": null,
            "object_position": null,
            "order": null,
            "overflow": null,
            "overflow_x": null,
            "overflow_y": null,
            "padding": null,
            "right": null,
            "top": null,
            "visibility": null,
            "width": null
          }
        },
        "30a947cebd5d4c069f76376817975646": {
          "model_module": "@jupyter-widgets/controls",
          "model_name": "ProgressStyleModel",
          "model_module_version": "1.5.0",
          "state": {
            "_model_module": "@jupyter-widgets/controls",
            "_model_module_version": "1.5.0",
            "_model_name": "ProgressStyleModel",
            "_view_count": null,
            "_view_module": "@jupyter-widgets/base",
            "_view_module_version": "1.2.0",
            "_view_name": "StyleView",
            "bar_color": null,
            "description_width": ""
          }
        },
        "b99c86d2be4c41b497026ab769bf2621": {
          "model_module": "@jupyter-widgets/base",
          "model_name": "LayoutModel",
          "model_module_version": "1.2.0",
          "state": {
            "_model_module": "@jupyter-widgets/base",
            "_model_module_version": "1.2.0",
            "_model_name": "LayoutModel",
            "_view_count": null,
            "_view_module": "@jupyter-widgets/base",
            "_view_module_version": "1.2.0",
            "_view_name": "LayoutView",
            "align_content": null,
            "align_items": null,
            "align_self": null,
            "border": null,
            "bottom": null,
            "display": null,
            "flex": null,
            "flex_flow": null,
            "grid_area": null,
            "grid_auto_columns": null,
            "grid_auto_flow": null,
            "grid_auto_rows": null,
            "grid_column": null,
            "grid_gap": null,
            "grid_row": null,
            "grid_template_areas": null,
            "grid_template_columns": null,
            "grid_template_rows": null,
            "height": null,
            "justify_content": null,
            "justify_items": null,
            "left": null,
            "margin": null,
            "max_height": null,
            "max_width": null,
            "min_height": null,
            "min_width": null,
            "object_fit": null,
            "object_position": null,
            "order": null,
            "overflow": null,
            "overflow_x": null,
            "overflow_y": null,
            "padding": null,
            "right": null,
            "top": null,
            "visibility": null,
            "width": null
          }
        },
        "4ce40a6ae67c4d85b8c2b03f1c195202": {
          "model_module": "@jupyter-widgets/controls",
          "model_name": "DescriptionStyleModel",
          "model_module_version": "1.5.0",
          "state": {
            "_model_module": "@jupyter-widgets/controls",
            "_model_module_version": "1.5.0",
            "_model_name": "DescriptionStyleModel",
            "_view_count": null,
            "_view_module": "@jupyter-widgets/base",
            "_view_module_version": "1.2.0",
            "_view_name": "StyleView",
            "description_width": ""
          }
        }
      }
    }
  },
  "nbformat": 4,
  "nbformat_minor": 0
}